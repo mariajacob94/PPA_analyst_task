{
 "cells": [
  {
   "cell_type": "markdown",
   "metadata": {},
   "source": [
    "# Calculate PPA performance\n",
    "## Maria Jacob\n",
    "In this notebook we want to\n",
    "* explore the various datasets provided"
   ]
  },
  {
   "cell_type": "code",
   "execution_count": 1,
   "metadata": {},
   "outputs": [],
   "source": [
    "%load_ext autoreload\n",
    "%autoreload 2"
   ]
  },
  {
   "cell_type": "code",
   "execution_count": 2,
   "metadata": {},
   "outputs": [],
   "source": [
    "import pandas as pd\n",
    "import numpy as np\n",
    "import matplotlib as mpl\n",
    "import matplotlib.pyplot as plt\n",
    "import seaborn as sns"
   ]
  },
  {
   "cell_type": "markdown",
   "metadata": {},
   "source": [
    "# Exploring datasets\n",
    "## Volume"
   ]
  },
  {
   "cell_type": "markdown",
   "metadata": {},
   "source": [
    "### Basics"
   ]
  },
  {
   "cell_type": "code",
   "execution_count": 3,
   "metadata": {},
   "outputs": [
    {
     "data": {
      "text/html": [
       "<div>\n",
       "<style scoped>\n",
       "    .dataframe tbody tr th:only-of-type {\n",
       "        vertical-align: middle;\n",
       "    }\n",
       "\n",
       "    .dataframe tbody tr th {\n",
       "        vertical-align: top;\n",
       "    }\n",
       "\n",
       "    .dataframe thead th {\n",
       "        text-align: right;\n",
       "    }\n",
       "</style>\n",
       "<table border=\"1\" class=\"dataframe\">\n",
       "  <thead>\n",
       "    <tr style=\"text-align: right;\">\n",
       "      <th></th>\n",
       "      <th>valid_on_date</th>\n",
       "      <th>delivery_from</th>\n",
       "      <th>volume_type</th>\n",
       "      <th>forecast_type</th>\n",
       "      <th>volume</th>\n",
       "    </tr>\n",
       "  </thead>\n",
       "  <tbody>\n",
       "    <tr>\n",
       "      <th>0</th>\n",
       "      <td>2022-02-24</td>\n",
       "      <td>2022-07-10 00:00:00+00:00</td>\n",
       "      <td>forecast</td>\n",
       "      <td>long_term</td>\n",
       "      <td>0.208007</td>\n",
       "    </tr>\n",
       "    <tr>\n",
       "      <th>1</th>\n",
       "      <td>2022-03-15</td>\n",
       "      <td>2022-07-10 00:00:00+00:00</td>\n",
       "      <td>forecast</td>\n",
       "      <td>long_term</td>\n",
       "      <td>0.208007</td>\n",
       "    </tr>\n",
       "    <tr>\n",
       "      <th>2</th>\n",
       "      <td>2022-03-17</td>\n",
       "      <td>2022-07-10 00:00:00+00:00</td>\n",
       "      <td>forecast</td>\n",
       "      <td>long_term</td>\n",
       "      <td>0.208007</td>\n",
       "    </tr>\n",
       "    <tr>\n",
       "      <th>3</th>\n",
       "      <td>2022-03-24</td>\n",
       "      <td>2022-07-10 00:00:00+00:00</td>\n",
       "      <td>forecast</td>\n",
       "      <td>long_term</td>\n",
       "      <td>0.208007</td>\n",
       "    </tr>\n",
       "    <tr>\n",
       "      <th>4</th>\n",
       "      <td>2022-04-25</td>\n",
       "      <td>2022-07-10 00:00:00+00:00</td>\n",
       "      <td>forecast</td>\n",
       "      <td>long_term</td>\n",
       "      <td>0.208149</td>\n",
       "    </tr>\n",
       "  </tbody>\n",
       "</table>\n",
       "</div>"
      ],
      "text/plain": [
       "  valid_on_date              delivery_from volume_type forecast_type    volume\n",
       "0    2022-02-24  2022-07-10 00:00:00+00:00    forecast     long_term  0.208007\n",
       "1    2022-03-15  2022-07-10 00:00:00+00:00    forecast     long_term  0.208007\n",
       "2    2022-03-17  2022-07-10 00:00:00+00:00    forecast     long_term  0.208007\n",
       "3    2022-03-24  2022-07-10 00:00:00+00:00    forecast     long_term  0.208007\n",
       "4    2022-04-25  2022-07-10 00:00:00+00:00    forecast     long_term  0.208149"
      ]
     },
     "execution_count": 3,
     "metadata": {},
     "output_type": "execute_result"
    }
   ],
   "source": [
    "volumes_df = pd.read_csv(\"volumes.csv\")\n",
    "volumes_df.head()"
   ]
  },
  {
   "cell_type": "code",
   "execution_count": 4,
   "metadata": {},
   "outputs": [
    {
     "name": "stdout",
     "output_type": "stream",
     "text": [
      "<class 'pandas.core.frame.DataFrame'>\n",
      "RangeIndex: 90281 entries, 0 to 90280\n",
      "Data columns (total 5 columns):\n",
      " #   Column         Non-Null Count  Dtype  \n",
      "---  ------         --------------  -----  \n",
      " 0   valid_on_date  90281 non-null  object \n",
      " 1   delivery_from  90281 non-null  object \n",
      " 2   volume_type    90281 non-null  object \n",
      " 3   forecast_type  88792 non-null  object \n",
      " 4   volume         90281 non-null  float64\n",
      "dtypes: float64(1), object(4)\n",
      "memory usage: 3.4+ MB\n"
     ]
    }
   ],
   "source": [
    "volumes_df.info()"
   ]
  },
  {
   "cell_type": "code",
   "execution_count": 29,
   "metadata": {},
   "outputs": [
    {
     "name": "stdout",
     "output_type": "stream",
     "text": [
      "Number of dates:  87 \n",
      "Earliest date:  2022-02-24 \n",
      "Latest date:  2022-08-09 \n",
      "future date:  9999-12-31\n"
     ]
    }
   ],
   "source": [
    "print(\n",
    "    \"Number of dates: \", volumes_df[\"valid_on_date\"].nunique(), \n",
    "    \"\\nEarliest date: \",  volumes_df[\"valid_on_date\"].min(),\n",
    "    \"\\nLatest date: \", volumes_df[\"valid_on_date\"].unique()[-1],\n",
    "    \"\\nfuture date: \", volumes_df[\"valid_on_date\"].max()\n",
    ")"
   ]
  },
  {
   "cell_type": "markdown",
   "metadata": {},
   "source": [
    "Some weird values in here.. let's take a look...\n",
    "* `volume_type` is `actual` for date in year 9999\n",
    "* otherwise volume type is `forecast`\n",
    "* as I interpret this dataframe: each row, on `valid_on_date` a forecast (or actual) is created for a particular for settlement period starting at `delivery_from. This value is given in `volume`. Guess the volume will be in MWh."
   ]
  },
  {
   "cell_type": "code",
   "execution_count": 12,
   "metadata": {},
   "outputs": [
    {
     "data": {
      "text/plain": [
       "valid_on_date\n",
       "2022-02-24    1489\n",
       "2022-03-15    1489\n",
       "2022-03-17    1489\n",
       "2022-03-24    1489\n",
       "2022-04-25    1489\n",
       "              ... \n",
       "2022-08-06      48\n",
       "2022-08-07      48\n",
       "2022-08-08      53\n",
       "2022-08-09       5\n",
       "9999-12-31    1489\n",
       "Length: 87, dtype: int64"
      ]
     },
     "execution_count": 12,
     "metadata": {},
     "output_type": "execute_result"
    }
   ],
   "source": [
    "volumes_df.groupby(\"valid_on_date\").size()"
   ]
  },
  {
   "cell_type": "code",
   "execution_count": 20,
   "metadata": {},
   "outputs": [
    {
     "data": {
      "text/plain": [
       "array(['2022-08-06 22:00:00+00:00', '2022-08-06 22:30:00+00:00',\n",
       "       '2022-08-06 23:00:00+00:00', '2022-08-06 23:30:00+00:00',\n",
       "       '2022-08-07 00:00:00+00:00', '2022-08-07 00:30:00+00:00',\n",
       "       '2022-08-07 01:00:00+00:00', '2022-08-07 01:30:00+00:00',\n",
       "       '2022-08-07 02:00:00+00:00', '2022-08-07 02:30:00+00:00',\n",
       "       '2022-08-07 03:00:00+00:00', '2022-08-07 03:30:00+00:00',\n",
       "       '2022-08-07 04:00:00+00:00', '2022-08-07 04:30:00+00:00',\n",
       "       '2022-08-07 05:00:00+00:00', '2022-08-07 05:30:00+00:00',\n",
       "       '2022-08-07 06:00:00+00:00', '2022-08-07 06:30:00+00:00',\n",
       "       '2022-08-07 07:00:00+00:00', '2022-08-07 07:30:00+00:00',\n",
       "       '2022-08-07 08:00:00+00:00', '2022-08-07 08:30:00+00:00',\n",
       "       '2022-08-07 09:00:00+00:00', '2022-08-07 09:30:00+00:00',\n",
       "       '2022-08-07 10:00:00+00:00', '2022-08-07 10:30:00+00:00',\n",
       "       '2022-08-07 11:00:00+00:00', '2022-08-07 11:30:00+00:00',\n",
       "       '2022-08-07 12:00:00+00:00', '2022-08-07 12:30:00+00:00',\n",
       "       '2022-08-07 13:00:00+00:00', '2022-08-07 13:30:00+00:00',\n",
       "       '2022-08-07 14:00:00+00:00', '2022-08-07 14:30:00+00:00',\n",
       "       '2022-08-07 15:00:00+00:00', '2022-08-07 15:30:00+00:00',\n",
       "       '2022-08-07 16:00:00+00:00', '2022-08-07 16:30:00+00:00',\n",
       "       '2022-08-07 17:00:00+00:00', '2022-08-07 17:30:00+00:00',\n",
       "       '2022-08-07 18:00:00+00:00', '2022-08-07 18:30:00+00:00',\n",
       "       '2022-08-07 19:00:00+00:00', '2022-08-07 19:30:00+00:00',\n",
       "       '2022-08-07 20:00:00+00:00', '2022-08-07 20:30:00+00:00',\n",
       "       '2022-08-07 21:00:00+00:00', '2022-08-07 21:30:00+00:00'],\n",
       "      dtype=object)"
      ]
     },
     "execution_count": 20,
     "metadata": {},
     "output_type": "execute_result"
    }
   ],
   "source": [
    "np.sort(volumes_df[volumes_df[\"valid_on_date\"]==\"2022-08-06\"][\"delivery_from\"].unique())"
   ]
  },
  {
   "cell_type": "code",
   "execution_count": 11,
   "metadata": {},
   "outputs": [
    {
     "data": {
      "text/plain": [
       "array(['forecast'], dtype=object)"
      ]
     },
     "execution_count": 11,
     "metadata": {},
     "output_type": "execute_result"
    }
   ],
   "source": [
    "print(volumes_df[volumes_df[\"valid_on_date\"]!=\"9999-12-31\"][\"volume_type\"].unique()"
   ]
  },
  {
   "cell_type": "code",
   "execution_count": 19,
   "metadata": {},
   "outputs": [
    {
     "data": {
      "text/plain": [
       "array(['2022-02-24', '2022-03-15', '2022-03-17', '2022-03-24',\n",
       "       '2022-04-25', '2022-04-26', '2022-04-27', '2022-04-28',\n",
       "       '2022-04-29', '2022-05-03', '2022-05-04', '2022-05-05',\n",
       "       '2022-05-09', '2022-05-10', '2022-05-11', '2022-05-12',\n",
       "       '2022-05-13', '2022-05-16', '2022-05-17', '2022-05-18',\n",
       "       '2022-05-19', '2022-05-20', '2022-05-23', '2022-05-24',\n",
       "       '2022-05-25', '2022-05-26', '2022-05-27', '2022-05-30',\n",
       "       '2022-05-31', '2022-06-01', '2022-06-06', '2022-06-07',\n",
       "       '2022-06-08', '2022-06-09', '2022-06-10', '2022-06-13',\n",
       "       '2022-06-14', '2022-06-15', '2022-06-16', '2022-06-17',\n",
       "       '2022-06-21', '2022-06-22', '2022-06-23', '2022-06-24',\n",
       "       '2022-06-27', '2022-06-28', '2022-06-29', '2022-06-30',\n",
       "       '2022-07-01', '2022-07-04', '2022-07-05', '2022-07-06',\n",
       "       '2022-07-07', '2022-07-08', '2022-07-09', '2022-07-10',\n",
       "       '2022-07-11', '2022-07-12', '2022-07-13', '2022-07-14',\n",
       "       '2022-07-15', '2022-07-16', '2022-07-17', '2022-07-18',\n",
       "       '2022-07-19', '2022-07-20', '2022-07-21', '2022-07-22',\n",
       "       '2022-07-23', '2022-07-24', '2022-07-25', '2022-07-26',\n",
       "       '2022-07-27', '2022-07-28', '2022-07-29', '2022-07-30',\n",
       "       '2022-07-31', '2022-08-01', '2022-08-02', '2022-08-03',\n",
       "       '2022-08-04', '2022-08-05', '2022-08-06', '2022-08-07',\n",
       "       '2022-08-08', '2022-08-09', '9999-12-31'], dtype=object)"
      ]
     },
     "execution_count": 19,
     "metadata": {},
     "output_type": "execute_result"
    }
   ],
   "source": [
    "np.sort(volumes_df[\"valid_on_date\"].unique())"
   ]
  },
  {
   "cell_type": "markdown",
   "metadata": {},
   "source": [
    "possible data treatements here:\n",
    "* data and time, convert to date and time `dtypes`"
   ]
  },
  {
   "cell_type": "markdown",
   "metadata": {},
   "source": [
    "### correcting data\n",
    "We are looking for\n",
    "* missing values\n",
    "* extremes/outliers (I doubt it but good to check)\n",
    "* correcting data types"
   ]
  },
  {
   "cell_type": "code",
   "execution_count": 55,
   "metadata": {},
   "outputs": [],
   "source": [
    "volumes_df.loc[volumes_df[\"valid_on_date\"]==\"9999-12-31\",\"valid_on_date\"] = pd.NA\n"
   ]
  },
  {
   "cell_type": "code",
   "execution_count": 59,
   "metadata": {},
   "outputs": [],
   "source": [
    "volumes_df[\"valid_on_date\"] = pd.to_datetime(volumes_df[\"valid_on_date\"])"
   ]
  },
  {
   "cell_type": "code",
   "execution_count": 61,
   "metadata": {},
   "outputs": [],
   "source": [
    "volumes_df[\"delivery_from\"] = pd.to_datetime(volumes_df[\"delivery_from\"])"
   ]
  },
  {
   "cell_type": "code",
   "execution_count": 62,
   "metadata": {},
   "outputs": [
    {
     "data": {
      "text/plain": [
       "valid_on_date    1489\n",
       "delivery_from       0\n",
       "volume_type         0\n",
       "forecast_type    1489\n",
       "volume              0\n",
       "dtype: int64"
      ]
     },
     "execution_count": 62,
     "metadata": {},
     "output_type": "execute_result"
    }
   ],
   "source": [
    "volumes_df.isna().sum()"
   ]
  },
  {
   "cell_type": "code",
   "execution_count": 73,
   "metadata": {},
   "outputs": [],
   "source": [
    "volumes_df[\"forecast_type\"].fillna(\"actual\",inplace=True)"
   ]
  },
  {
   "cell_type": "markdown",
   "metadata": {},
   "source": [
    "There are some nulls but these are actulas as opposed to forecasts, so they don't need to be infilled. To make it easier for some plots, I'll fill it with \"actual\"\n",
    "\n",
    "Are there any extremes?"
   ]
  },
  {
   "cell_type": "code",
   "execution_count": 32,
   "metadata": {},
   "outputs": [
    {
     "data": {
      "text/plain": [
       "Index(['valid_on_date', 'delivery_from', 'volume_type', 'forecast_type',\n",
       "       'volume'],\n",
       "      dtype='object')"
      ]
     },
     "execution_count": 32,
     "metadata": {},
     "output_type": "execute_result"
    }
   ],
   "source": [
    "volumes_df.columns"
   ]
  },
  {
   "cell_type": "code",
   "execution_count": 38,
   "metadata": {},
   "outputs": [
    {
     "name": "stdout",
     "output_type": "stream",
     "text": [
      "aggregations for forecasts\n",
      "\n"
     ]
    },
    {
     "data": {
      "text/plain": [
       "count    88792.000000\n",
       "mean         0.237510\n",
       "std          0.061425\n",
       "min          0.008164\n",
       "25%          0.208149\n",
       "50%          0.233207\n",
       "75%          0.262023\n",
       "max          0.795487\n",
       "Name: volume, dtype: float64"
      ]
     },
     "execution_count": 38,
     "metadata": {},
     "output_type": "execute_result"
    }
   ],
   "source": [
    "print(\"aggregations for forecasts\\n\")\n",
    "volumes_df[volumes_df[\"forecast_type\"].notnull()][\"volume\"].describe()"
   ]
  },
  {
   "cell_type": "code",
   "execution_count": 39,
   "metadata": {},
   "outputs": [
    {
     "name": "stdout",
     "output_type": "stream",
     "text": [
      "aggregations for actual volumes\n",
      "\n"
     ]
    },
    {
     "data": {
      "text/plain": [
       "count    1489.000000\n",
       "mean        0.102045\n",
       "std         0.149991\n",
       "min         0.000000\n",
       "25%         0.000000\n",
       "50%         0.029600\n",
       "75%         0.145200\n",
       "max         0.937800\n",
       "Name: volume, dtype: float64"
      ]
     },
     "execution_count": 39,
     "metadata": {},
     "output_type": "execute_result"
    }
   ],
   "source": [
    "print(\"aggregations for actual volumes\\n\")\n",
    "volumes_df[volumes_df[\"forecast_type\"].isna()][\"volume\"].describe()"
   ]
  },
  {
   "cell_type": "markdown",
   "metadata": {},
   "source": [
    "the mean of the actual volume is a lot lower but standard deviation, max is a lot higher..."
   ]
  },
  {
   "cell_type": "code",
   "execution_count": 42,
   "metadata": {},
   "outputs": [
    {
     "data": {
      "text/html": [
       "<div>\n",
       "<style scoped>\n",
       "    .dataframe tbody tr th:only-of-type {\n",
       "        vertical-align: middle;\n",
       "    }\n",
       "\n",
       "    .dataframe tbody tr th {\n",
       "        vertical-align: top;\n",
       "    }\n",
       "\n",
       "    .dataframe thead th {\n",
       "        text-align: right;\n",
       "    }\n",
       "</style>\n",
       "<table border=\"1\" class=\"dataframe\">\n",
       "  <thead>\n",
       "    <tr style=\"text-align: right;\">\n",
       "      <th></th>\n",
       "      <th>valid_on_date</th>\n",
       "      <th>delivery_from</th>\n",
       "      <th>volume_type</th>\n",
       "      <th>forecast_type</th>\n",
       "      <th>volume</th>\n",
       "    </tr>\n",
       "  </thead>\n",
       "  <tbody>\n",
       "    <tr>\n",
       "      <th>0</th>\n",
       "      <td>2022-02-24</td>\n",
       "      <td>2022-07-10 00:00:00+00:00</td>\n",
       "      <td>forecast</td>\n",
       "      <td>long_term</td>\n",
       "      <td>0.208007</td>\n",
       "    </tr>\n",
       "    <tr>\n",
       "      <th>1</th>\n",
       "      <td>2022-03-15</td>\n",
       "      <td>2022-07-10 00:00:00+00:00</td>\n",
       "      <td>forecast</td>\n",
       "      <td>long_term</td>\n",
       "      <td>0.208007</td>\n",
       "    </tr>\n",
       "    <tr>\n",
       "      <th>2</th>\n",
       "      <td>2022-03-17</td>\n",
       "      <td>2022-07-10 00:00:00+00:00</td>\n",
       "      <td>forecast</td>\n",
       "      <td>long_term</td>\n",
       "      <td>0.208007</td>\n",
       "    </tr>\n",
       "    <tr>\n",
       "      <th>3</th>\n",
       "      <td>2022-03-24</td>\n",
       "      <td>2022-07-10 00:00:00+00:00</td>\n",
       "      <td>forecast</td>\n",
       "      <td>long_term</td>\n",
       "      <td>0.208007</td>\n",
       "    </tr>\n",
       "    <tr>\n",
       "      <th>4</th>\n",
       "      <td>2022-04-25</td>\n",
       "      <td>2022-07-10 00:00:00+00:00</td>\n",
       "      <td>forecast</td>\n",
       "      <td>long_term</td>\n",
       "      <td>0.208149</td>\n",
       "    </tr>\n",
       "  </tbody>\n",
       "</table>\n",
       "</div>"
      ],
      "text/plain": [
       "  valid_on_date              delivery_from volume_type forecast_type    volume\n",
       "0    2022-02-24  2022-07-10 00:00:00+00:00    forecast     long_term  0.208007\n",
       "1    2022-03-15  2022-07-10 00:00:00+00:00    forecast     long_term  0.208007\n",
       "2    2022-03-17  2022-07-10 00:00:00+00:00    forecast     long_term  0.208007\n",
       "3    2022-03-24  2022-07-10 00:00:00+00:00    forecast     long_term  0.208007\n",
       "4    2022-04-25  2022-07-10 00:00:00+00:00    forecast     long_term  0.208149"
      ]
     },
     "execution_count": 42,
     "metadata": {},
     "output_type": "execute_result"
    }
   ],
   "source": [
    "volumes_df.head()"
   ]
  },
  {
   "cell_type": "code",
   "execution_count": 75,
   "metadata": {},
   "outputs": [
    {
     "data": {
      "image/png": "[encoded data removed]",
      "text/plain": [
       "<Figure size 640x480 with 1 Axes>"
      ]
     },
     "metadata": {},
     "output_type": "display_data"
    }
   ],
   "source": [
    "sns.histplot(\n",
    "    data=volumes_df,\n",
    "    x=\"volume\",\n",
    "    hue=\"forecast_type\",\n",
    "    common_norm=False,\n",
    "    stat=\"percent\",\n",
    "    bins=100,\n",
    ")\n",
    "plt.show()"
   ]
  },
  {
   "cell_type": "markdown",
   "metadata": {},
   "source": [
    "Clearly quite a lot of difference between actual volume distributionally...\n",
    "* short term forecasts have a lot higher variability\n",
    "* actual volumes are very skewed"
   ]
  },
  {
   "cell_type": "code",
   "execution_count": 65,
   "metadata": {},
   "outputs": [
    {
     "data": {
      "text/plain": [
       "delivery_from\n",
       "2022-07-10    0.055416\n",
       "2022-07-11    0.093199\n",
       "2022-07-12    0.027708\n",
       "2022-07-13    0.020151\n",
       "2022-07-14    0.020151\n",
       "2022-07-15    0.005038\n",
       "2022-07-16    0.052897\n",
       "2022-07-17    0.040302\n",
       "2022-07-18    0.040302\n",
       "2022-07-19    0.027708\n",
       "2022-07-21    0.035264\n",
       "2022-07-22    0.068010\n",
       "2022-07-23    0.027708\n",
       "2022-07-25    0.010076\n",
       "2022-07-26    0.040302\n",
       "2022-07-27    0.032746\n",
       "2022-07-28    0.057935\n",
       "2022-07-29    0.035264\n",
       "2022-07-30    0.002519\n",
       "2022-07-31    0.005038\n",
       "2022-08-01    0.035264\n",
       "2022-08-04    0.002519\n",
       "2022-08-05    0.015113\n",
       "2022-08-06    0.042821\n",
       "2022-08-07    0.025189\n",
       "2022-08-08    0.073048\n",
       "2022-08-09    0.105793\n",
       "2022-08-10    0.002519\n",
       "Name: proportion, dtype: float64"
      ]
     },
     "execution_count": 65,
     "metadata": {},
     "output_type": "execute_result"
    }
   ],
   "source": [
    "volumes_df[\n",
    "    (volumes_df[\"volume_type\"]==\"actual\")\n",
    "    &\n",
    "    (volumes_df[\"volume\"]==0)\n",
    "][\"delivery_from\"].dt.date.value_counts(normalize=True).sort_index()"
   ]
  },
  {
   "cell_type": "markdown",
   "metadata": {},
   "source": [
    "doesnt' see like there's anything too crazy or obvious about where the zeros are"
   ]
  },
  {
   "cell_type": "code",
   "execution_count": null,
   "metadata": {},
   "outputs": [],
   "source": []
  },
  {
   "cell_type": "code",
   "execution_count": null,
   "metadata": {},
   "outputs": [],
   "source": []
  },
  {
   "cell_type": "code",
   "execution_count": null,
   "metadata": {},
   "outputs": [],
   "source": []
  },
  {
   "cell_type": "markdown",
   "metadata": {},
   "source": [
    "### seasonality"
   ]
  },
  {
   "cell_type": "code",
   "execution_count": 74,
   "metadata": {},
   "outputs": [
    {
     "data": {
      "image/png": "[encoded data removed]",
      "text/plain": [
       "<Figure size 640x480 with 1 Axes>"
      ]
     },
     "metadata": {},
     "output_type": "display_data"
    }
   ],
   "source": [
    "sns.boxplot(\n",
    "    data = volumes_df,\n",
    "    x=volumes_df[\"delivery_from\"].dt.date,\n",
    "    y=\"volume\",\n",
    "    hue=\"forecast_type\",\n",
    "    showfliers=False,\n",
    ")\n",
    "plt.xticks(rotation=90)\n",
    "plt.show()"
   ]
  },
  {
   "cell_type": "markdown",
   "metadata": {},
   "source": [
    "Long term forecasts are a lot more stable than actual volumes or short term forecasts. \n",
    "Usually even short term forecasts seem like they are over-forecasting volumes"
   ]
  },
  {
   "cell_type": "code",
   "execution_count": 71,
   "metadata": {},
   "outputs": [
    {
     "data": {
      "text/plain": [
       "array(['long_term', nan, 'short_term'], dtype=object)"
      ]
     },
     "execution_count": 71,
     "metadata": {},
     "output_type": "execute_result"
    }
   ],
   "source": [
    "volumes_df[\"forecast_type\"].unique()"
   ]
  },
  {
   "cell_type": "code",
   "execution_count": null,
   "metadata": {},
   "outputs": [],
   "source": [
    "sns.boxplot(\n",
    "    data = volumes_df,\n",
    "    x=volumes_df[\"delivery_from\"].dt.date,\n",
    "    y=\"volume\",\n",
    "    hue=\"volume_type\",\n",
    "    showfliers=False,\n",
    ")\n",
    "plt.xticks(rotation=90)\n",
    "plt.show()"
   ]
  },
  {
   "cell_type": "code",
   "execution_count": 78,
   "metadata": {},
   "outputs": [
    {
     "data": {
      "image/png": "[encoded data removed]",
      "text/plain": [
       "<Figure size 640x480 with 1 Axes>"
      ]
     },
     "metadata": {},
     "output_type": "display_data"
    }
   ],
   "source": [
    "sns.boxplot(\n",
    "    data = volumes_df,\n",
    "    x=volumes_df[\"delivery_from\"].dt.hour,\n",
    "    y=\"volume\",\n",
    "    hue=\"forecast_type\",\n",
    "    showfliers=False,\n",
    ")\n",
    "plt.xlabel(\"Hour of delivery time\")\n",
    "plt.xticks(rotation=90)\n",
    "plt.show()"
   ]
  },
  {
   "cell_type": "markdown",
   "metadata": {},
   "source": [
    "quite a lot of seasonality here"
   ]
  },
  {
   "cell_type": "code",
   "execution_count": 83,
   "metadata": {},
   "outputs": [
    {
     "data": {
      "image/png": "[encoded data removed]",
      "text/plain": [
       "<Figure size 640x480 with 1 Axes>"
      ]
     },
     "metadata": {},
     "output_type": "display_data"
    }
   ],
   "source": [
    "sns.boxplot(\n",
    "    data = volumes_df,\n",
    "    x=volumes_df[\"delivery_from\"].dt.month,\n",
    "    y=\"volume\",\n",
    "    hue=\"forecast_type\",\n",
    "    showfliers=False,\n",
    ")\n",
    "plt.xlabel(\"Month of delivery\")\n",
    "plt.xticks(ticks=[0,1],labels=[\"July\",\"Aug\"])\n",
    "plt.show()"
   ]
  },
  {
   "cell_type": "markdown",
   "metadata": {},
   "source": [
    "## prices"
   ]
  },
  {
   "cell_type": "code",
   "execution_count": 22,
   "metadata": {},
   "outputs": [
    {
     "data": {
      "text/html": [
       "<div>\n",
       "<style scoped>\n",
       "    .dataframe tbody tr th:only-of-type {\n",
       "        vertical-align: middle;\n",
       "    }\n",
       "\n",
       "    .dataframe tbody tr th {\n",
       "        vertical-align: top;\n",
       "    }\n",
       "\n",
       "    .dataframe thead th {\n",
       "        text-align: right;\n",
       "    }\n",
       "</style>\n",
       "<table border=\"1\" class=\"dataframe\">\n",
       "  <thead>\n",
       "    <tr style=\"text-align: right;\">\n",
       "      <th></th>\n",
       "      <th>delivery_from</th>\n",
       "      <th>price_date</th>\n",
       "      <th>price_source</th>\n",
       "      <th>price</th>\n",
       "    </tr>\n",
       "  </thead>\n",
       "  <tbody>\n",
       "    <tr>\n",
       "      <th>0</th>\n",
       "      <td>2022-07-10 00:00:00+00:00</td>\n",
       "      <td>2022-02-15</td>\n",
       "      <td>forward</td>\n",
       "      <td>147.124575</td>\n",
       "    </tr>\n",
       "    <tr>\n",
       "      <th>1</th>\n",
       "      <td>2022-07-10 00:00:00+00:00</td>\n",
       "      <td>2022-02-16</td>\n",
       "      <td>forward</td>\n",
       "      <td>148.972618</td>\n",
       "    </tr>\n",
       "    <tr>\n",
       "      <th>2</th>\n",
       "      <td>2022-07-10 00:00:00+00:00</td>\n",
       "      <td>2022-02-22</td>\n",
       "      <td>forward</td>\n",
       "      <td>149.688081</td>\n",
       "    </tr>\n",
       "    <tr>\n",
       "      <th>3</th>\n",
       "      <td>2022-07-10 00:00:00+00:00</td>\n",
       "      <td>2022-02-24</td>\n",
       "      <td>forward</td>\n",
       "      <td>205.801177</td>\n",
       "    </tr>\n",
       "    <tr>\n",
       "      <th>4</th>\n",
       "      <td>2022-07-10 00:00:00+00:00</td>\n",
       "      <td>2022-02-25</td>\n",
       "      <td>forward</td>\n",
       "      <td>168.322221</td>\n",
       "    </tr>\n",
       "  </tbody>\n",
       "</table>\n",
       "</div>"
      ],
      "text/plain": [
       "               delivery_from  price_date price_source       price\n",
       "0  2022-07-10 00:00:00+00:00  2022-02-15      forward  147.124575\n",
       "1  2022-07-10 00:00:00+00:00  2022-02-16      forward  148.972618\n",
       "2  2022-07-10 00:00:00+00:00  2022-02-22      forward  149.688081\n",
       "3  2022-07-10 00:00:00+00:00  2022-02-24      forward  205.801177\n",
       "4  2022-07-10 00:00:00+00:00  2022-02-25      forward  168.322221"
      ]
     },
     "execution_count": 22,
     "metadata": {},
     "output_type": "execute_result"
    }
   ],
   "source": [
    "prices_df = pd.read_csv(\"prices.csv\")\n",
    "prices_df.head()"
   ]
  },
  {
   "cell_type": "code",
   "execution_count": 23,
   "metadata": {},
   "outputs": [
    {
     "data": {
      "text/plain": [
       "array(['forward', 'day_ahead_auction', 'system'], dtype=object)"
      ]
     },
     "execution_count": 23,
     "metadata": {},
     "output_type": "execute_result"
    }
   ],
   "source": [
    "prices_df[\"price_source\"].unique()"
   ]
  },
  {
   "cell_type": "markdown",
   "metadata": {},
   "source": [
    "Questions:\n",
    "* `system` = spot prices?? Yes, I think so cuz the price data is in year 9999\n",
    "* also aligns with `day_ahead_action` having `delivery_from` the day after `price_date`\n",
    "\n",
    "Interpretting this data set:\n",
    "* for a specific `price_date` and specific `delivery_from` settlement period, there is a price (guessing in £/MWh)"
   ]
  },
  {
   "cell_type": "code",
   "execution_count": 25,
   "metadata": {},
   "outputs": [
    {
     "data": {
      "text/html": [
       "<div>\n",
       "<style scoped>\n",
       "    .dataframe tbody tr th:only-of-type {\n",
       "        vertical-align: middle;\n",
       "    }\n",
       "\n",
       "    .dataframe tbody tr th {\n",
       "        vertical-align: top;\n",
       "    }\n",
       "\n",
       "    .dataframe thead th {\n",
       "        text-align: right;\n",
       "    }\n",
       "</style>\n",
       "<table border=\"1\" class=\"dataframe\">\n",
       "  <thead>\n",
       "    <tr style=\"text-align: right;\">\n",
       "      <th></th>\n",
       "      <th>delivery_from</th>\n",
       "      <th>price_date</th>\n",
       "      <th>price_source</th>\n",
       "      <th>price</th>\n",
       "    </tr>\n",
       "  </thead>\n",
       "  <tbody>\n",
       "    <tr>\n",
       "      <th>34</th>\n",
       "      <td>2022-07-10 00:00:00+00:00</td>\n",
       "      <td>2022-07-09</td>\n",
       "      <td>day_ahead_auction</td>\n",
       "      <td>188.399994</td>\n",
       "    </tr>\n",
       "    <tr>\n",
       "      <th>202</th>\n",
       "      <td>2022-07-10 02:30:00+00:00</td>\n",
       "      <td>2022-07-09</td>\n",
       "      <td>day_ahead_auction</td>\n",
       "      <td>154.800003</td>\n",
       "    </tr>\n",
       "    <tr>\n",
       "      <th>354</th>\n",
       "      <td>2022-07-10 05:00:00+00:00</td>\n",
       "      <td>2022-07-09</td>\n",
       "      <td>day_ahead_auction</td>\n",
       "      <td>145.000000</td>\n",
       "    </tr>\n",
       "    <tr>\n",
       "      <th>544</th>\n",
       "      <td>2022-07-10 08:30:00+00:00</td>\n",
       "      <td>2022-07-09</td>\n",
       "      <td>day_ahead_auction</td>\n",
       "      <td>163.419998</td>\n",
       "    </tr>\n",
       "    <tr>\n",
       "      <th>622</th>\n",
       "      <td>2022-07-10 10:00:00+00:00</td>\n",
       "      <td>2022-07-09</td>\n",
       "      <td>day_ahead_auction</td>\n",
       "      <td>162.000000</td>\n",
       "    </tr>\n",
       "    <tr>\n",
       "      <th>...</th>\n",
       "      <td>...</td>\n",
       "      <td>...</td>\n",
       "      <td>...</td>\n",
       "      <td>...</td>\n",
       "    </tr>\n",
       "    <tr>\n",
       "      <th>173032</th>\n",
       "      <td>2022-08-09 18:00:00+00:00</td>\n",
       "      <td>2022-08-08</td>\n",
       "      <td>day_ahead_auction</td>\n",
       "      <td>380.000000</td>\n",
       "    </tr>\n",
       "    <tr>\n",
       "      <th>173234</th>\n",
       "      <td>2022-08-09 20:00:00+00:00</td>\n",
       "      <td>2022-08-08</td>\n",
       "      <td>day_ahead_auction</td>\n",
       "      <td>375.100006</td>\n",
       "    </tr>\n",
       "    <tr>\n",
       "      <th>173282</th>\n",
       "      <td>2022-08-09 20:30:00+00:00</td>\n",
       "      <td>2022-08-08</td>\n",
       "      <td>day_ahead_auction</td>\n",
       "      <td>330.000000</td>\n",
       "    </tr>\n",
       "    <tr>\n",
       "      <th>173329</th>\n",
       "      <td>2022-08-09 21:00:00+00:00</td>\n",
       "      <td>2022-08-08</td>\n",
       "      <td>day_ahead_auction</td>\n",
       "      <td>345.600006</td>\n",
       "    </tr>\n",
       "    <tr>\n",
       "      <th>173604</th>\n",
       "      <td>2022-08-09 23:30:00+00:00</td>\n",
       "      <td>2022-08-09</td>\n",
       "      <td>day_ahead_auction</td>\n",
       "      <td>210.000000</td>\n",
       "    </tr>\n",
       "  </tbody>\n",
       "</table>\n",
       "<p>1489 rows × 4 columns</p>\n",
       "</div>"
      ],
      "text/plain": [
       "                    delivery_from  price_date       price_source       price\n",
       "34      2022-07-10 00:00:00+00:00  2022-07-09  day_ahead_auction  188.399994\n",
       "202     2022-07-10 02:30:00+00:00  2022-07-09  day_ahead_auction  154.800003\n",
       "354     2022-07-10 05:00:00+00:00  2022-07-09  day_ahead_auction  145.000000\n",
       "544     2022-07-10 08:30:00+00:00  2022-07-09  day_ahead_auction  163.419998\n",
       "622     2022-07-10 10:00:00+00:00  2022-07-09  day_ahead_auction  162.000000\n",
       "...                           ...         ...                ...         ...\n",
       "173032  2022-08-09 18:00:00+00:00  2022-08-08  day_ahead_auction  380.000000\n",
       "173234  2022-08-09 20:00:00+00:00  2022-08-08  day_ahead_auction  375.100006\n",
       "173282  2022-08-09 20:30:00+00:00  2022-08-08  day_ahead_auction  330.000000\n",
       "173329  2022-08-09 21:00:00+00:00  2022-08-08  day_ahead_auction  345.600006\n",
       "173604  2022-08-09 23:30:00+00:00  2022-08-09  day_ahead_auction  210.000000\n",
       "\n",
       "[1489 rows x 4 columns]"
      ]
     },
     "execution_count": 25,
     "metadata": {},
     "output_type": "execute_result"
    }
   ],
   "source": [
    "prices_df[prices_df[\"price_source\"]==\"day_ahead_auction\"]"
   ]
  },
  {
   "cell_type": "code",
   "execution_count": 28,
   "metadata": {},
   "outputs": [
    {
     "name": "stdout",
     "output_type": "stream",
     "text": [
      "Number of dates:  143 \n",
      "Earliest date:  2022-01-31 \n",
      "Latest date:  2022-08-09 \n",
      "future date:  9999-12-31\n"
     ]
    }
   ],
   "source": [
    "print(\n",
    "    \"Number of dates: \", prices_df[\"price_date\"].nunique(), \n",
    "    \"\\nEarliest date: \",  prices_df[\"price_date\"].min(),\n",
    "    \"\\nLatest date: \", prices_df[\"price_date\"].unique()[-1],\n",
    "    \"\\nfuture date: \", prices_df[\"price_date\"].max()\n",
    ")"
   ]
  },
  {
   "cell_type": "markdown",
   "metadata": {},
   "source": [
    "certainly ends the same day as `volumes_df`"
   ]
  },
  {
   "cell_type": "code",
   "execution_count": null,
   "metadata": {},
   "outputs": [],
   "source": []
  }
 ],
 "metadata": {
  "kernelspec": {
   "display_name": "PPA_analyst_task-P3wAKH0h",
   "language": "python",
   "name": "python3"
  },
  "language_info": {
   "codemirror_mode": {
    "name": "ipython",
    "version": 3
   },
   "file_extension": ".py",
   "mimetype": "text/x-python",
   "name": "python",
   "nbconvert_exporter": "python",
   "pygments_lexer": "ipython3",
   "version": "3.12.0"
  }
 },
 "nbformat": 4,
 "nbformat_minor": 2
}
