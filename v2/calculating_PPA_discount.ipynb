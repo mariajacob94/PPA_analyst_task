{
 "cells": [
  {
   "cell_type": "markdown",
   "metadata": {},
   "source": [
    "# Calculate PPA performance\n",
    "## Maria Jacob\n",
    "In this notebook we want to\n",
    "* explore the various datasets provided"
   ]
  },
  {
   "cell_type": "code",
   "execution_count": 1,
   "metadata": {},
   "outputs": [],
   "source": [
    "%load_ext autoreload\n",
    "%autoreload 2"
   ]
  },
  {
   "cell_type": "code",
   "execution_count": 2,
   "metadata": {},
   "outputs": [],
   "source": [
    "import pandas as pd\n",
    "import numpy as np\n",
    "import matplotlib as mpl\n",
    "import matplotlib.pyplot as plt\n",
    "import seaborn as sns"
   ]
  },
  {
   "cell_type": "markdown",
   "metadata": {},
   "source": [
    "# Exploring data sets"
   ]
  },
  {
   "cell_type": "markdown",
   "metadata": {},
   "source": [
    "## Wind forecast"
   ]
  },
  {
   "cell_type": "code",
   "execution_count": 34,
   "metadata": {},
   "outputs": [
    {
     "data": {
      "text/html": [
       "<div>\n",
       "<style scoped>\n",
       "    .dataframe tbody tr th:only-of-type {\n",
       "        vertical-align: middle;\n",
       "    }\n",
       "\n",
       "    .dataframe tbody tr th {\n",
       "        vertical-align: top;\n",
       "    }\n",
       "\n",
       "    .dataframe thead th {\n",
       "        text-align: right;\n",
       "    }\n",
       "</style>\n",
       "<table border=\"1\" class=\"dataframe\">\n",
       "  <thead>\n",
       "    <tr style=\"text-align: right;\">\n",
       "      <th></th>\n",
       "      <th>delivery_from</th>\n",
       "      <th>forecast_timestamp</th>\n",
       "      <th>day_ahead_national_forecast</th>\n",
       "      <th>national_wind_capacity</th>\n",
       "    </tr>\n",
       "  </thead>\n",
       "  <tbody>\n",
       "    <tr>\n",
       "      <th>0</th>\n",
       "      <td>2018-04-16 23:00:00+00:00</td>\n",
       "      <td>2018-04-19 08:05:35+00:00</td>\n",
       "      <td>7523.656150</td>\n",
       "      <td>11173.25</td>\n",
       "    </tr>\n",
       "    <tr>\n",
       "      <th>1</th>\n",
       "      <td>2018-04-16 23:30:00+00:00</td>\n",
       "      <td>2018-04-19 08:05:35+00:00</td>\n",
       "      <td>7656.137150</td>\n",
       "      <td>11173.25</td>\n",
       "    </tr>\n",
       "    <tr>\n",
       "      <th>2</th>\n",
       "      <td>2018-04-17 00:00:00+00:00</td>\n",
       "      <td>2018-04-19 08:05:35+00:00</td>\n",
       "      <td>7736.733183</td>\n",
       "      <td>11173.25</td>\n",
       "    </tr>\n",
       "    <tr>\n",
       "      <th>3</th>\n",
       "      <td>2018-04-17 00:30:00+00:00</td>\n",
       "      <td>2018-04-19 08:05:35+00:00</td>\n",
       "      <td>7765.444248</td>\n",
       "      <td>11173.25</td>\n",
       "    </tr>\n",
       "    <tr>\n",
       "      <th>4</th>\n",
       "      <td>2018-04-17 01:00:00+00:00</td>\n",
       "      <td>2018-04-19 08:05:35+00:00</td>\n",
       "      <td>7852.161290</td>\n",
       "      <td>11173.25</td>\n",
       "    </tr>\n",
       "    <tr>\n",
       "      <th>...</th>\n",
       "      <td>...</td>\n",
       "      <td>...</td>\n",
       "      <td>...</td>\n",
       "      <td>...</td>\n",
       "    </tr>\n",
       "    <tr>\n",
       "      <th>74581</th>\n",
       "      <td>2022-07-19 20:30:00+00:00</td>\n",
       "      <td>2022-07-18 07:22:37+00:00</td>\n",
       "      <td>5951.000000</td>\n",
       "      <td>15635.00</td>\n",
       "    </tr>\n",
       "    <tr>\n",
       "      <th>74582</th>\n",
       "      <td>2022-07-19 21:00:00+00:00</td>\n",
       "      <td>2022-07-18 07:22:37+00:00</td>\n",
       "      <td>5806.000000</td>\n",
       "      <td>15635.00</td>\n",
       "    </tr>\n",
       "    <tr>\n",
       "      <th>74583</th>\n",
       "      <td>2022-07-19 21:30:00+00:00</td>\n",
       "      <td>2022-07-18 07:22:37+00:00</td>\n",
       "      <td>5644.000000</td>\n",
       "      <td>15635.00</td>\n",
       "    </tr>\n",
       "    <tr>\n",
       "      <th>74584</th>\n",
       "      <td>2022-07-19 22:00:00+00:00</td>\n",
       "      <td>2022-07-18 07:22:37+00:00</td>\n",
       "      <td>5458.000000</td>\n",
       "      <td>15635.00</td>\n",
       "    </tr>\n",
       "    <tr>\n",
       "      <th>74585</th>\n",
       "      <td>2022-07-19 22:30:00+00:00</td>\n",
       "      <td>2022-07-18 07:22:37+00:00</td>\n",
       "      <td>5249.000000</td>\n",
       "      <td>15635.00</td>\n",
       "    </tr>\n",
       "  </tbody>\n",
       "</table>\n",
       "<p>74586 rows × 4 columns</p>\n",
       "</div>"
      ],
      "text/plain": [
       "                   delivery_from         forecast_timestamp  \\\n",
       "0      2018-04-16 23:00:00+00:00  2018-04-19 08:05:35+00:00   \n",
       "1      2018-04-16 23:30:00+00:00  2018-04-19 08:05:35+00:00   \n",
       "2      2018-04-17 00:00:00+00:00  2018-04-19 08:05:35+00:00   \n",
       "3      2018-04-17 00:30:00+00:00  2018-04-19 08:05:35+00:00   \n",
       "4      2018-04-17 01:00:00+00:00  2018-04-19 08:05:35+00:00   \n",
       "...                          ...                        ...   \n",
       "74581  2022-07-19 20:30:00+00:00  2022-07-18 07:22:37+00:00   \n",
       "74582  2022-07-19 21:00:00+00:00  2022-07-18 07:22:37+00:00   \n",
       "74583  2022-07-19 21:30:00+00:00  2022-07-18 07:22:37+00:00   \n",
       "74584  2022-07-19 22:00:00+00:00  2022-07-18 07:22:37+00:00   \n",
       "74585  2022-07-19 22:30:00+00:00  2022-07-18 07:22:37+00:00   \n",
       "\n",
       "       day_ahead_national_forecast  national_wind_capacity  \n",
       "0                      7523.656150                11173.25  \n",
       "1                      7656.137150                11173.25  \n",
       "2                      7736.733183                11173.25  \n",
       "3                      7765.444248                11173.25  \n",
       "4                      7852.161290                11173.25  \n",
       "...                            ...                     ...  \n",
       "74581                  5951.000000                15635.00  \n",
       "74582                  5806.000000                15635.00  \n",
       "74583                  5644.000000                15635.00  \n",
       "74584                  5458.000000                15635.00  \n",
       "74585                  5249.000000                15635.00  \n",
       "\n",
       "[74586 rows x 4 columns]"
      ]
     },
     "execution_count": 34,
     "metadata": {},
     "output_type": "execute_result"
    }
   ],
   "source": [
    "wind_forecast = pd.read_csv(\"2018_2022_national_wind_forecast_data.csv\")\n",
    "wind_forecast"
   ]
  },
  {
   "cell_type": "code",
   "execution_count": 35,
   "metadata": {},
   "outputs": [
    {
     "data": {
      "text/plain": [
       "163"
      ]
     },
     "execution_count": 35,
     "metadata": {},
     "output_type": "execute_result"
    }
   ],
   "source": [
    "(wind_forecast[\"delivery_from\"] < wind_forecast[\"forecast_timestamp\"]).sum()"
   ]
  },
  {
   "cell_type": "code",
   "execution_count": 36,
   "metadata": {},
   "outputs": [
    {
     "data": {
      "text/plain": [
       "74423"
      ]
     },
     "execution_count": 36,
     "metadata": {},
     "output_type": "execute_result"
    }
   ],
   "source": [
    "(wind_forecast[\"delivery_from\"] >= wind_forecast[\"forecast_timestamp\"]).sum()"
   ]
  },
  {
   "cell_type": "code",
   "execution_count": 37,
   "metadata": {},
   "outputs": [
    {
     "data": {
      "text/plain": [
       "array(['2018-04-19 08:05:35+00:00', '2018-04-19 08:05:14+00:00',\n",
       "       '2018-04-19 08:04:59+00:00', ..., '2022-07-16 07:22:58+00:00',\n",
       "       '2022-07-17 07:22:50+00:00', '2022-07-18 07:22:37+00:00'],\n",
       "      dtype=object)"
      ]
     },
     "execution_count": 37,
     "metadata": {},
     "output_type": "execute_result"
    }
   ],
   "source": [
    "wind_forecast[\"forecast_timestamp\"].unique()"
   ]
  },
  {
   "cell_type": "code",
   "execution_count": 38,
   "metadata": {},
   "outputs": [
    {
     "name": "stdout",
     "output_type": "stream",
     "text": [
      "<class 'pandas.core.frame.DataFrame'>\n",
      "RangeIndex: 74586 entries, 0 to 74585\n",
      "Data columns (total 4 columns):\n",
      " #   Column                       Non-Null Count  Dtype  \n",
      "---  ------                       --------------  -----  \n",
      " 0   delivery_from                74586 non-null  object \n",
      " 1   forecast_timestamp           74586 non-null  object \n",
      " 2   day_ahead_national_forecast  74586 non-null  float64\n",
      " 3   national_wind_capacity       74586 non-null  float64\n",
      "dtypes: float64(2), object(2)\n",
      "memory usage: 2.3+ MB\n"
     ]
    }
   ],
   "source": [
    "wind_forecast.info()"
   ]
  },
  {
   "cell_type": "markdown",
   "metadata": {},
   "source": [
    "are the columns appropriately named? Looks like delivery from is before forecast timestamp (which looks like it is the time when the forecast was made)"
   ]
  },
  {
   "cell_type": "code",
   "execution_count": 39,
   "metadata": {},
   "outputs": [],
   "source": [
    "wind_forecast[\"delivery_from\"] = pd.to_datetime(wind_forecast[\"delivery_from\"])"
   ]
  },
  {
   "cell_type": "code",
   "execution_count": 40,
   "metadata": {},
   "outputs": [],
   "source": [
    "wind_forecast[\"forecast_timestamp\"] = pd.to_datetime(wind_forecast[\"forecast_timestamp\"])"
   ]
  },
  {
   "cell_type": "code",
   "execution_count": 41,
   "metadata": {},
   "outputs": [
    {
     "name": "stdout",
     "output_type": "stream",
     "text": [
      "<class 'pandas.core.frame.DataFrame'>\n",
      "RangeIndex: 74586 entries, 0 to 74585\n",
      "Data columns (total 4 columns):\n",
      " #   Column                       Non-Null Count  Dtype              \n",
      "---  ------                       --------------  -----              \n",
      " 0   delivery_from                74586 non-null  datetime64[ns, UTC]\n",
      " 1   forecast_timestamp           74586 non-null  datetime64[ns, UTC]\n",
      " 2   day_ahead_national_forecast  74586 non-null  float64            \n",
      " 3   national_wind_capacity       74586 non-null  float64            \n",
      "dtypes: datetime64[ns, UTC](2), float64(2)\n",
      "memory usage: 2.3 MB\n"
     ]
    }
   ],
   "source": [
    "wind_forecast.info()"
   ]
  },
  {
   "cell_type": "markdown",
   "metadata": {},
   "source": [
    "### check data quality"
   ]
  },
  {
   "cell_type": "markdown",
   "metadata": {},
   "source": [
    "There seemed to be some rows (163) where `delivery_from` was before the `forecast_timestamp` which can't be right. I'll remove them since there are so few but something to check"
   ]
  },
  {
   "cell_type": "code",
   "execution_count": 42,
   "metadata": {},
   "outputs": [],
   "source": [
    "wind_forecast = wind_forecast.loc[wind_forecast[\"delivery_from\"]>=wind_forecast[\"forecast_timestamp\"]].copy()"
   ]
  },
  {
   "cell_type": "code",
   "execution_count": 52,
   "metadata": {},
   "outputs": [
    {
     "name": "stdout",
     "output_type": "stream",
     "text": [
      "Earliest delivery forecast:  2018-04-19 \n",
      "Latest delivery forecast:  2022-07-19 \n",
      "Number of days:  1551 \n",
      "So there are 4+ years of forecasts\n"
     ]
    }
   ],
   "source": [
    "print(\n",
    "    \"Earliest delivery forecast: \",wind_forecast[\"delivery_from\"].dt.date.min(),\n",
    "    \"\\nLatest delivery forecast: \",wind_forecast[\"delivery_from\"].dt.date.max(),\n",
    "    \"\\nNumber of days: \",wind_forecast[\"delivery_from\"].dt.date.nunique(),\n",
    "    f\"\\nSo there are {int(wind_forecast[\"delivery_from\"].dt.date.nunique()/365)}+ years of forecasts\"\n",
    ")"
   ]
  },
  {
   "cell_type": "code",
   "execution_count": 23,
   "metadata": {},
   "outputs": [
    {
     "data": {
      "text/plain": [
       "delivery_from                  0\n",
       "forecast_timestamp             0\n",
       "day_ahead_national_forecast    0\n",
       "national_wind_capacity         0\n",
       "dtype: int64"
      ]
     },
     "execution_count": 23,
     "metadata": {},
     "output_type": "execute_result"
    }
   ],
   "source": [
    "wind_forecast.isna().sum()"
   ]
  },
  {
   "cell_type": "markdown",
   "metadata": {},
   "source": [
    "Check for any extreme values (since none missing)"
   ]
  },
  {
   "cell_type": "code",
   "execution_count": 9,
   "metadata": {},
   "outputs": [
    {
     "data": {
      "text/html": [
       "<div>\n",
       "<style scoped>\n",
       "    .dataframe tbody tr th:only-of-type {\n",
       "        vertical-align: middle;\n",
       "    }\n",
       "\n",
       "    .dataframe tbody tr th {\n",
       "        vertical-align: top;\n",
       "    }\n",
       "\n",
       "    .dataframe thead th {\n",
       "        text-align: right;\n",
       "    }\n",
       "</style>\n",
       "<table border=\"1\" class=\"dataframe\">\n",
       "  <thead>\n",
       "    <tr style=\"text-align: right;\">\n",
       "      <th></th>\n",
       "      <th>day_ahead_national_forecast</th>\n",
       "      <th>national_wind_capacity</th>\n",
       "    </tr>\n",
       "  </thead>\n",
       "  <tbody>\n",
       "    <tr>\n",
       "      <th>count</th>\n",
       "      <td>74586.000000</td>\n",
       "      <td>74586.000000</td>\n",
       "    </tr>\n",
       "    <tr>\n",
       "      <th>mean</th>\n",
       "      <td>5247.963081</td>\n",
       "      <td>14321.663905</td>\n",
       "    </tr>\n",
       "    <tr>\n",
       "      <th>std</th>\n",
       "      <td>3501.113808</td>\n",
       "      <td>1575.244552</td>\n",
       "    </tr>\n",
       "    <tr>\n",
       "      <th>min</th>\n",
       "      <td>202.000000</td>\n",
       "      <td>1136.000000</td>\n",
       "    </tr>\n",
       "    <tr>\n",
       "      <th>25%</th>\n",
       "      <td>2250.000000</td>\n",
       "      <td>13347.000000</td>\n",
       "    </tr>\n",
       "    <tr>\n",
       "      <th>50%</th>\n",
       "      <td>4557.000000</td>\n",
       "      <td>15181.000000</td>\n",
       "    </tr>\n",
       "    <tr>\n",
       "      <th>75%</th>\n",
       "      <td>7805.000000</td>\n",
       "      <td>15594.000000</td>\n",
       "    </tr>\n",
       "    <tr>\n",
       "      <th>max</th>\n",
       "      <td>14138.000000</td>\n",
       "      <td>15730.000000</td>\n",
       "    </tr>\n",
       "  </tbody>\n",
       "</table>\n",
       "</div>"
      ],
      "text/plain": [
       "       day_ahead_national_forecast  national_wind_capacity\n",
       "count                 74586.000000            74586.000000\n",
       "mean                   5247.963081            14321.663905\n",
       "std                    3501.113808             1575.244552\n",
       "min                     202.000000             1136.000000\n",
       "25%                    2250.000000            13347.000000\n",
       "50%                    4557.000000            15181.000000\n",
       "75%                    7805.000000            15594.000000\n",
       "max                   14138.000000            15730.000000"
      ]
     },
     "execution_count": 9,
     "metadata": {},
     "output_type": "execute_result"
    }
   ],
   "source": [
    "wind_forecast.describe()"
   ]
  },
  {
   "cell_type": "code",
   "execution_count": 29,
   "metadata": {},
   "outputs": [
    {
     "data": {
      "image/png": "[encoded data removed]",
      "text/plain": [
       "<Figure size 640x480 with 1 Axes>"
      ]
     },
     "metadata": {},
     "output_type": "display_data"
    }
   ],
   "source": [
    "sns.histplot(\n",
    "    data=wind_forecast,\n",
    "    x=\"day_ahead_national_forecast\",\n",
    "    stat=\"frequency\",\n",
    ")\n",
    "plt.xlabel(\"Wind generated energy forecast (kWh)\")\n",
    "plt.show()"
   ]
  },
  {
   "cell_type": "code",
   "execution_count": 31,
   "metadata": {},
   "outputs": [
    {
     "data": {
      "image/png": "[encoded data removed]",
      "text/plain": [
       "<Figure size 640x480 with 1 Axes>"
      ]
     },
     "metadata": {},
     "output_type": "display_data"
    }
   ],
   "source": [
    "sns.histplot(\n",
    "    data=wind_forecast,\n",
    "    x=\"national_wind_capacity\",\n",
    "    stat=\"percent\",\n",
    "    bins=20,\n",
    ")\n",
    "plt.xlabel(\"National wind capacity (kWh)\")\n",
    "plt.show()"
   ]
  },
  {
   "cell_type": "markdown",
   "metadata": {},
   "source": [
    "capacity and generation are quite differently skewed"
   ]
  },
  {
   "cell_type": "markdown",
   "metadata": {},
   "source": [
    "## wind generated"
   ]
  },
  {
   "cell_type": "code",
   "execution_count": 12,
   "metadata": {},
   "outputs": [
    {
     "data": {
      "text/html": [
       "<div>\n",
       "<style scoped>\n",
       "    .dataframe tbody tr th:only-of-type {\n",
       "        vertical-align: middle;\n",
       "    }\n",
       "\n",
       "    .dataframe tbody tr th {\n",
       "        vertical-align: top;\n",
       "    }\n",
       "\n",
       "    .dataframe thead th {\n",
       "        text-align: right;\n",
       "    }\n",
       "</style>\n",
       "<table border=\"1\" class=\"dataframe\">\n",
       "  <thead>\n",
       "    <tr style=\"text-align: right;\">\n",
       "      <th></th>\n",
       "      <th>delivery_from</th>\n",
       "      <th>english_wind_generated</th>\n",
       "      <th>scottish_wind_generated</th>\n",
       "      <th>total_wind_generated</th>\n",
       "    </tr>\n",
       "  </thead>\n",
       "  <tbody>\n",
       "    <tr>\n",
       "      <th>0</th>\n",
       "      <td>2018-03-31 23:00:00+00:00</td>\n",
       "      <td>1680.060</td>\n",
       "      <td>614.578</td>\n",
       "      <td>2294.638</td>\n",
       "    </tr>\n",
       "    <tr>\n",
       "      <th>1</th>\n",
       "      <td>2018-03-31 23:30:00+00:00</td>\n",
       "      <td>1625.204</td>\n",
       "      <td>560.996</td>\n",
       "      <td>2186.200</td>\n",
       "    </tr>\n",
       "    <tr>\n",
       "      <th>2</th>\n",
       "      <td>2018-04-01 00:00:00+00:00</td>\n",
       "      <td>1446.452</td>\n",
       "      <td>514.734</td>\n",
       "      <td>1961.186</td>\n",
       "    </tr>\n",
       "    <tr>\n",
       "      <th>3</th>\n",
       "      <td>2018-04-01 00:30:00+00:00</td>\n",
       "      <td>1273.264</td>\n",
       "      <td>466.560</td>\n",
       "      <td>1739.824</td>\n",
       "    </tr>\n",
       "    <tr>\n",
       "      <th>4</th>\n",
       "      <td>2018-04-01 01:00:00+00:00</td>\n",
       "      <td>1387.798</td>\n",
       "      <td>387.370</td>\n",
       "      <td>1775.168</td>\n",
       "    </tr>\n",
       "  </tbody>\n",
       "</table>\n",
       "</div>"
      ],
      "text/plain": [
       "               delivery_from  english_wind_generated  scottish_wind_generated  \\\n",
       "0  2018-03-31 23:00:00+00:00                1680.060                  614.578   \n",
       "1  2018-03-31 23:30:00+00:00                1625.204                  560.996   \n",
       "2  2018-04-01 00:00:00+00:00                1446.452                  514.734   \n",
       "3  2018-04-01 00:30:00+00:00                1273.264                  466.560   \n",
       "4  2018-04-01 01:00:00+00:00                1387.798                  387.370   \n",
       "\n",
       "   total_wind_generated  \n",
       "0              2294.638  \n",
       "1              2186.200  \n",
       "2              1961.186  \n",
       "3              1739.824  \n",
       "4              1775.168  "
      ]
     },
     "execution_count": 12,
     "metadata": {},
     "output_type": "execute_result"
    }
   ],
   "source": [
    "wind_generated = pd.read_csv(\"2018_2022_national_wind_generated_data.csv\")\n",
    "wind_generated.head()"
   ]
  },
  {
   "cell_type": "code",
   "execution_count": 56,
   "metadata": {},
   "outputs": [
    {
     "name": "stdout",
     "output_type": "stream",
     "text": [
      "<class 'pandas.core.frame.DataFrame'>\n",
      "RangeIndex: 73008 entries, 0 to 73007\n",
      "Data columns (total 4 columns):\n",
      " #   Column                   Non-Null Count  Dtype  \n",
      "---  ------                   --------------  -----  \n",
      " 0   delivery_from            73008 non-null  object \n",
      " 1   english_wind_generated   73008 non-null  float64\n",
      " 2   scottish_wind_generated  73008 non-null  float64\n",
      " 3   total_wind_generated     73008 non-null  float64\n",
      "dtypes: float64(3), object(1)\n",
      "memory usage: 2.2+ MB\n"
     ]
    }
   ],
   "source": [
    "wind_generated.info()"
   ]
  },
  {
   "cell_type": "code",
   "execution_count": 57,
   "metadata": {},
   "outputs": [],
   "source": [
    "wind_generated[\"delivery_from\"] = pd.to_datetime(wind_generated[\"delivery_from\"])"
   ]
  },
  {
   "cell_type": "code",
   "execution_count": 64,
   "metadata": {},
   "outputs": [
    {
     "data": {
      "image/png": "[encoded data removed]",
      "text/plain": [
       "<Figure size 640x480 with 2 Axes>"
      ]
     },
     "metadata": {},
     "output_type": "display_data"
    }
   ],
   "source": [
    "wind_generated[[\"english_wind_generated\",\"scottish_wind_generated\"]].hist(bins=30,sharey=True)\n",
    "plt.show()"
   ]
  },
  {
   "cell_type": "code",
   "execution_count": null,
   "metadata": {},
   "outputs": [],
   "source": []
  },
  {
   "cell_type": "code",
   "execution_count": null,
   "metadata": {},
   "outputs": [],
   "source": []
  },
  {
   "cell_type": "code",
   "execution_count": null,
   "metadata": {},
   "outputs": [],
   "source": []
  },
  {
   "cell_type": "markdown",
   "metadata": {},
   "source": [
    "# Spot prices"
   ]
  },
  {
   "cell_type": "code",
   "execution_count": 15,
   "metadata": {},
   "outputs": [
    {
     "data": {
      "text/html": [
       "<div>\n",
       "<style scoped>\n",
       "    .dataframe tbody tr th:only-of-type {\n",
       "        vertical-align: middle;\n",
       "    }\n",
       "\n",
       "    .dataframe tbody tr th {\n",
       "        vertical-align: top;\n",
       "    }\n",
       "\n",
       "    .dataframe thead th {\n",
       "        text-align: right;\n",
       "    }\n",
       "</style>\n",
       "<table border=\"1\" class=\"dataframe\">\n",
       "  <thead>\n",
       "    <tr style=\"text-align: right;\">\n",
       "      <th></th>\n",
       "      <th>delivery_from</th>\n",
       "      <th>day_ahead_half_hourly_auction_price</th>\n",
       "      <th>imbalance_price</th>\n",
       "    </tr>\n",
       "  </thead>\n",
       "  <tbody>\n",
       "    <tr>\n",
       "      <th>0</th>\n",
       "      <td>2018-01-01 00:00:00+00:00</td>\n",
       "      <td>46.73</td>\n",
       "      <td>55.94</td>\n",
       "    </tr>\n",
       "    <tr>\n",
       "      <th>1</th>\n",
       "      <td>2018-01-01 00:30:00+00:00</td>\n",
       "      <td>50.11</td>\n",
       "      <td>55.94</td>\n",
       "    </tr>\n",
       "    <tr>\n",
       "      <th>2</th>\n",
       "      <td>2018-01-01 01:00:00+00:00</td>\n",
       "      <td>56.60</td>\n",
       "      <td>62.94</td>\n",
       "    </tr>\n",
       "    <tr>\n",
       "      <th>3</th>\n",
       "      <td>2018-01-01 01:30:00+00:00</td>\n",
       "      <td>51.83</td>\n",
       "      <td>31.00</td>\n",
       "    </tr>\n",
       "    <tr>\n",
       "      <th>4</th>\n",
       "      <td>2018-01-01 02:00:00+00:00</td>\n",
       "      <td>46.23</td>\n",
       "      <td>60.81</td>\n",
       "    </tr>\n",
       "  </tbody>\n",
       "</table>\n",
       "</div>"
      ],
      "text/plain": [
       "               delivery_from  day_ahead_half_hourly_auction_price  \\\n",
       "0  2018-01-01 00:00:00+00:00                                46.73   \n",
       "1  2018-01-01 00:30:00+00:00                                50.11   \n",
       "2  2018-01-01 01:00:00+00:00                                56.60   \n",
       "3  2018-01-01 01:30:00+00:00                                51.83   \n",
       "4  2018-01-01 02:00:00+00:00                                46.23   \n",
       "\n",
       "   imbalance_price  \n",
       "0            55.94  \n",
       "1            55.94  \n",
       "2            62.94  \n",
       "3            31.00  \n",
       "4            60.81  "
      ]
     },
     "execution_count": 15,
     "metadata": {},
     "output_type": "execute_result"
    }
   ],
   "source": [
    "spot_prices = pd.read_csv(\"2018_2022_spot_price_data.csv\")\n",
    "spot_prices.head()"
   ]
  },
  {
   "cell_type": "code",
   "execution_count": null,
   "metadata": {},
   "outputs": [],
   "source": []
  }
 ],
 "metadata": {
  "kernelspec": {
   "display_name": "PPA_analyst_task-P3wAKH0h",
   "language": "python",
   "name": "python3"
  },
  "language_info": {
   "codemirror_mode": {
    "name": "ipython",
    "version": 3
   },
   "file_extension": ".py",
   "mimetype": "text/x-python",
   "name": "python",
   "nbconvert_exporter": "python",
   "pygments_lexer": "ipython3",
   "version": "3.12.0"
  }
 },
 "nbformat": 4,
 "nbformat_minor": 2
}
